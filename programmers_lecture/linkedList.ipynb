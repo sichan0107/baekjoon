{
 "cells": [
  {
   "cell_type": "code",
   "execution_count": 48,
   "metadata": {},
   "outputs": [],
   "source": [
    "class Node:\n",
    "    def __init__(self, data):\n",
    "        self.data = data\n",
    "        self.next = None\n",
    "        \n",
    "class LinkedList:\n",
    "    def __init__(self):\n",
    "        self.countNode = 0\n",
    "        self.head = None\n",
    "        self.tail = None\n",
    "    \n",
    "    def __repr__(self):\n",
    "        if self.countNode == 0:\n",
    "            return 'LinkedList: empty'\n",
    "\n",
    "        s = ''\n",
    "        curr = self.head\n",
    "        while curr is not None:\n",
    "            s += repr(curr.data)\n",
    "            if curr.next is not None:\n",
    "                s += ' -> '\n",
    "            curr = curr.next\n",
    "        return s\n",
    "    \n",
    "    # pos에 위치한 노드를 반환\n",
    "    def getAt(self, pos):\n",
    "        # 연결리스트의 시작인 1보다 작은 값이 들어오거나 전체 노드수보다 큰 값이 들어오면 None\n",
    "        if pos < 1 or pos > self.countNode + 1:\n",
    "            return None\n",
    "        i = 1\n",
    "        curr = self.head\n",
    "        while i < pos:\n",
    "            curr = curr.next\n",
    "            i = i + 1\n",
    "        return curr\n",
    "            \n",
    "    \n",
    "    # pos위치에 data 삽입\n",
    "    def insertAt(self, pos, node):\n",
    "        if pos < 1 or pos > self.countNode + 1:\n",
    "            raise False\n",
    "        \n",
    "        prev = self.getAt(pos-1)\n",
    "        \n",
    "        if pos == 1:\n",
    "            node.next = self.head\n",
    "            self.head = node\n",
    "        \n",
    "        else:\n",
    "            if pos == self.countNode + 1:\n",
    "                prev.next = node\n",
    "                self.tail = node\n",
    "            \n",
    "            else:\n",
    "                prev = self.getAt(pos-1)\n",
    "                node.next = prev.next\n",
    "                prev.next = node\n",
    "        \n",
    "        self.countNode = self.countNode + 1\n",
    "        return True\n",
    "    \n",
    "    \n",
    "    # pos 위치의 노드 제거 후 값 반환    \n",
    "    def popAt(self, pos):\n",
    "        if pos < 1 or pos > self.countNode:\n",
    "            raise IndexError\n",
    "        \n",
    "        curr = None\n",
    "        \n",
    "        # 삭제하려는 노드가 맨 앞일 때\n",
    "        if pos == 1:\n",
    "            curr = self.getAt(pos)\n",
    "            \n",
    "            # 유일한 노드를 삭제할 경우\n",
    "            if self.countNode == 1:\n",
    "                self.head = None\n",
    "                self.tail = None\n",
    "            else:\n",
    "                self.head = curr.next\n",
    "\n",
    "        else :\n",
    "            prev = self.getAt(pos - 1)\n",
    "            \n",
    "            # 맨뒤 노드를 삭제할때\n",
    "            if pos == self.countNode:\n",
    "                curr = prev.next\n",
    "                prev.next = None\n",
    "                self.tail = prev\n",
    "            else :\n",
    "                curr = prev.next\n",
    "                prev.next = curr.next\n",
    "        \n",
    "        self.countNode = self.countNode - 1\n",
    "        return curr.data\n",
    "    \n",
    "    # 연결리스트 순회 후 노드속 data들만 받아서 리스트로 반환   \n",
    "    def traverse(self):\n",
    "        if self.countNode == 0:\n",
    "            return None\n",
    "        \n",
    "        curr = self.head\n",
    "        data_list = []\n",
    "        while curr.next is not None:\n",
    "            data_list.append(curr.data)\n",
    "        \n",
    "        return data_list\n",
    "        \n",
    "    # 연결리스트 크기 반환\n",
    "    def getLength(self):\n",
    "        return self.countNode\n",
    "    \n",
    "    # 연결리스트 두개 합치기\n",
    "    def concat(self, L):\n",
    "        self.tail.next = L.head\n",
    "        if L.tail:\n",
    "            self.tail = L.tail\n",
    "        self.countNode = self.countNode + L.countNode\n",
    "        \n",
    "        "
   ]
  },
  {
   "cell_type": "code",
   "execution_count": 41,
   "metadata": {},
   "outputs": [
    {
     "data": {
      "text/plain": [
       "True"
      ]
     },
     "execution_count": 41,
     "metadata": {},
     "output_type": "execute_result"
    }
   ],
   "source": [
    "## 일반적인 테스트 케이스\n",
    "## 1. 맨 앞 삭제\n",
    "## 2. 맨 뒤 삭제\n",
    "## 3. 중간 아무데나 삭제\n",
    "\n",
    "L = LinkedList()\n",
    "node = Node(23)\n",
    "node2 = Node(66)\n",
    "node3 = Node(11)\n",
    "node4 = Node(9)\n",
    "L.insertAt(1, node)\n",
    "L.insertAt(2, node2)\n",
    "L.insertAt(3, node3)\n",
    "L.insertAt(4, node4)"
   ]
  },
  {
   "cell_type": "code",
   "execution_count": 2,
   "metadata": {},
   "outputs": [
    {
     "data": {
      "text/plain": [
       "True"
      ]
     },
     "execution_count": 2,
     "metadata": {},
     "output_type": "execute_result"
    }
   ],
   "source": [
    "## 유일한 노드를 삭제할 경우의 테스트 케이스\n",
    "\n",
    "L = LinkedList()\n",
    "n = Node(11)\n",
    "L.insertAt(1, n)"
   ]
  },
  {
   "cell_type": "code",
   "execution_count": 47,
   "metadata": {},
   "outputs": [
    {
     "name": "stdout",
     "output_type": "stream",
     "text": [
      "<bound method LinkedList.getLength of 23 -> 66 -> 11 -> 9>\n"
     ]
    }
   ],
   "source": [
    "print(L.getLength)"
   ]
  },
  {
   "cell_type": "code",
   "execution_count": 50,
   "metadata": {},
   "outputs": [
    {
     "name": "stdout",
     "output_type": "stream",
     "text": [
      "<bound method LinkedList.traverse of 23 -> 66 -> 11 -> 9>\n"
     ]
    }
   ],
   "source": [
    "test = L.traverse\n",
    "print(test)"
   ]
  },
  {
   "cell_type": "code",
   "execution_count": 38,
   "metadata": {},
   "outputs": [
    {
     "data": {
      "text/plain": [
       "9"
      ]
     },
     "execution_count": 38,
     "metadata": {},
     "output_type": "execute_result"
    }
   ],
   "source": [
    "L.popAt(4)"
   ]
  },
  {
   "cell_type": "code",
   "execution_count": 39,
   "metadata": {},
   "outputs": [
    {
     "data": {
      "text/plain": [
       "23 -> 66 -> 11"
      ]
     },
     "execution_count": 39,
     "metadata": {},
     "output_type": "execute_result"
    }
   ],
   "source": [
    "L"
   ]
  }
 ],
 "metadata": {
  "kernelspec": {
   "display_name": "Python 3",
   "language": "python",
   "name": "python3"
  },
  "language_info": {
   "codemirror_mode": {
    "name": "ipython",
    "version": 3
   },
   "file_extension": ".py",
   "mimetype": "text/x-python",
   "name": "python",
   "nbconvert_exporter": "python",
   "pygments_lexer": "ipython3",
   "version": "3.8.5"
  }
 },
 "nbformat": 4,
 "nbformat_minor": 4
}
