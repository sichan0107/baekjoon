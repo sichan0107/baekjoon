{
 "cells": [
  {
   "cell_type": "code",
   "execution_count": null,
   "metadata": {},
   "outputs": [],
   "source": [
    "### list의 insert(index, data) 원하는 인덱스에 값을 삽입\n",
    "### append(data) 맨뒤에 그냥 삽입"
   ]
  },
  {
   "cell_type": "code",
   "execution_count": 18,
   "metadata": {},
   "outputs": [],
   "source": [
    "def solution(L, x):\n",
    "    for i in L:\n",
    "        if(i > x):\n",
    "            L.insert(L.index(i), x)\n",
    "            break\n",
    "        elif(i < x and L.index(i) == len(L) -1):\n",
    "            L.append(x)\n",
    "            break\n",
    "    return L"
   ]
  },
  {
   "cell_type": "code",
   "execution_count": 21,
   "metadata": {},
   "outputs": [
    {
     "data": {
      "text/plain": [
       "[1, 20, 37, 58, 72, 91]"
      ]
     },
     "execution_count": 21,
     "metadata": {},
     "output_type": "execute_result"
    }
   ],
   "source": [
    "L = [20, 37, 58, 72, 91]\n",
    "solution(L, 1)"
   ]
  },
  {
   "cell_type": "code",
   "execution_count": null,
   "metadata": {},
   "outputs": [],
   "source": [
    "### 리스트의 인덱스를 제대로 활용하는 반복문은 while 문으로 저렇게 쓰는게 좋더라\n",
    "\n",
    "### for문은 배열 요소 자체를 이용할 경우에 좋은듯 for i in list\n",
    "\n",
    "### for문으로 인덱스 사용할 수 있긴하다. for i in range(0, len(List))"
   ]
  },
  {
   "cell_type": "code",
   "execution_count": 10,
   "metadata": {},
   "outputs": [],
   "source": [
    "def solution(L, x):\n",
    "    answer = list()\n",
    "    i = 0\n",
    "    while i < len(L):\n",
    "        if(L[i] == x):\n",
    "            answer.append(i)\n",
    "        i = i + 1\n",
    "    if(len(answer) == 0):\n",
    "        answer.append(-1)\n",
    "    return answer"
   ]
  },
  {
   "cell_type": "code",
   "execution_count": 11,
   "metadata": {},
   "outputs": [
    {
     "data": {
      "text/plain": [
       "[1, 3]"
      ]
     },
     "execution_count": 11,
     "metadata": {},
     "output_type": "execute_result"
    }
   ],
   "source": [
    "L = (64, 72, 83, 72, 54)\n",
    "x = 72\n",
    "solution(L, x)"
   ]
  }
 ],
 "metadata": {
  "kernelspec": {
   "display_name": "Python 3",
   "language": "python",
   "name": "python3"
  },
  "language_info": {
   "codemirror_mode": {
    "name": "ipython",
    "version": 3
   },
   "file_extension": ".py",
   "mimetype": "text/x-python",
   "name": "python",
   "nbconvert_exporter": "python",
   "pygments_lexer": "ipython3",
   "version": "3.8.5"
  }
 },
 "nbformat": 4,
 "nbformat_minor": 4
}
