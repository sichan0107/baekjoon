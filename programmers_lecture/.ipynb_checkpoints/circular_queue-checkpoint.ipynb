{
 "cells": [
  {
   "cell_type": "markdown",
   "metadata": {},
   "source": [
    "### 환형 큐\n",
    "- 정해진 개수의 저장 공간을 빙글 돌려가며 활용"
   ]
  },
  {
   "cell_type": "code",
   "execution_count": null,
   "metadata": {},
   "outputs": [],
   "source": [
    "class CircularQueue:\n",
    "\n",
    "    def __init__(self, n):\n",
    "        self.maxCount = n\n",
    "        self.data = [None] * n\n",
    "        self.count = 0\n",
    "        self.front = -1\n",
    "        self.rear = -1\n",
    "\n",
    "\n",
    "    def size(self):\n",
    "        return self.count\n",
    "\n",
    "    def isEmpty(self):\n",
    "        return self.count == 0\n",
    "\n",
    "    def isFull(self):\n",
    "        return self.count == self.maxCount\n",
    "\n",
    "    def enqueue(self, x):\n",
    "        if self.isFull():\n",
    "            raise IndexError('Queue full')\n",
    "        self.rear = (self.rear + 1) % self.maxCount\n",
    "\n",
    "        self.data[self.rear] = x\n",
    "        self.count += 1\n",
    "\n",
    "    def dequeue(self):\n",
    "        if self.isEmpty():\n",
    "            raise IndexError('Queue empty')\n",
    "        self.front = (self.front + 1) % self.maxCount\n",
    "\n",
    "        x = self.data[0]\n",
    "\n",
    "        self.count -= 1\n",
    "        return x\n",
    "\n",
    "    def peek(self):\n",
    "        if self.isEmpty():\n",
    "            raise IndexError('Queue empty')\n",
    "        return self.data[(self.front + 1) % self.maxCount]\n",
    "\n",
    "\n",
    "\n",
    "def solution(x):\n",
    "    return 0"
   ]
  }
 ],
 "metadata": {
  "kernelspec": {
   "display_name": "Python 3",
   "language": "python",
   "name": "python3"
  },
  "language_info": {
   "codemirror_mode": {
    "name": "ipython",
    "version": 3
   },
   "file_extension": ".py",
   "mimetype": "text/x-python",
   "name": "python",
   "nbconvert_exporter": "python",
   "pygments_lexer": "ipython3",
   "version": "3.8.5"
  }
 },
 "nbformat": 4,
 "nbformat_minor": 4
}
