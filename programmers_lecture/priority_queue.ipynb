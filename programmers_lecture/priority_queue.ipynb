{
 "cells": [
  {
   "cell_type": "markdown",
   "metadata": {},
   "source": [
    "### 우선순위 큐\n",
    "1. 구현 (가능한 방법)\n",
    "    - enqueue 할 때 우선순위 순서를 유지하도록 하는 것.\n",
    "    - dequeue 할 때 우선순위 높은 것을 선택하는 것.\n",
    "    - 뭐가 유리할까? -> enqueue 할 때 정하는게 유리하다. dequeue는 출력할 때 모든 원소를 탐색해야함.\n",
    "    \n",
    "2. 방식\n",
    "    - 선형 배열 이용\n",
    "    - 연결 리스트 이용\n",
    "    - 뭐가 유리할까? -> 아무래도 중간에 값을 enqueue할 경우가 빈번하니 시간복잡도에서 연결리스트"
   ]
  },
  {
   "cell_type": "code",
   "execution_count": null,
   "metadata": {},
   "outputs": [],
   "source": []
  }
 ],
 "metadata": {
  "kernelspec": {
   "display_name": "Python 3",
   "language": "python",
   "name": "python3"
  },
  "language_info": {
   "codemirror_mode": {
    "name": "ipython",
    "version": 3
   },
   "file_extension": ".py",
   "mimetype": "text/x-python",
   "name": "python",
   "nbconvert_exporter": "python",
   "pygments_lexer": "ipython3",
   "version": "3.8.5"
  }
 },
 "nbformat": 4,
 "nbformat_minor": 4
}
