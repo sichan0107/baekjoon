{
 "cells": [
  {
   "cell_type": "code",
   "execution_count": 1,
   "metadata": {},
   "outputs": [],
   "source": [
    "class Node:\n",
    "    def __init__(self, item):\n",
    "        self.data = item\n",
    "        self.next = None\n",
    "\n",
    "class LinkedList:\n",
    "    def __init__(self):\n",
    "        self.nodeCount = 0\n",
    "        self.head = None\n",
    "        self.tail = None\n",
    "\n",
    "    def getAt(self, pos):\n",
    "        if pos < 1 or pos > self.nodeCount:\n",
    "            return None\n",
    "        i = 1\n",
    "        curr = self.head\n",
    "        while i < pos:\n",
    "            curr = curr.next\n",
    "            i += 1\n",
    "        return curr\n",
    "\n",
    "    def traverse(self):\n",
    "        if(self.head == None):\n",
    "            return []\n",
    "        \n",
    "        result = []\n",
    "        curr = self.head\n",
    "        while curr is not None:\n",
    "            result.append(curr.data)\n",
    "            curr = curr.next\n",
    "            \n",
    "        return result\n",
    "    \n",
    "# 이 solution 함수는 그대로 두어야 합니다.\n",
    "def solution(x):\n",
    "    return 0"
   ]
  },
  {
   "cell_type": "code",
   "execution_count": 29,
   "metadata": {},
   "outputs": [],
   "source": [
    "class Node:\n",
    "    def __init__(self, data):\n",
    "        self.data = data\n",
    "        self.next = None\n",
    "        \n",
    "class LinkedList:\n",
    "    def __init__(self):\n",
    "        self.countNode = 0\n",
    "        self.head = None\n",
    "        self.tail = None\n",
    "    \n",
    "    def __repr__(self):\n",
    "        if self.countNode == 0:\n",
    "            return 'LinkedList: empty'\n",
    "\n",
    "        s = ''\n",
    "        curr = self.head\n",
    "        while curr is not None:\n",
    "            s += repr(curr.data)\n",
    "            if curr.next is not None:\n",
    "                s += ' -> '\n",
    "            curr = curr.next\n",
    "        return s\n",
    "    \n",
    "    # pos에 위치한 노드를 반환\n",
    "    def getAt(self, pos):\n",
    "        # 연결리스트의 시작인 1보다 작은 값이 들어오거나 전체 노드수보다 큰 값이 들어오면 None\n",
    "        if pos < 1 or pos > self.countNode + 1:\n",
    "            return None\n",
    "        i = 1\n",
    "        curr = self.head\n",
    "        while i < pos:\n",
    "            curr = curr.next\n",
    "            i = i + 1\n",
    "        return curr\n",
    "            \n",
    "    \n",
    "    # pos위치에 data 삽입\n",
    "    def insertAt(self, pos, node):\n",
    "        if pos < 1 or pos > self.countNode + 1:\n",
    "            raise False\n",
    "        \n",
    "        prev = self.getAt(pos-1)\n",
    "        \n",
    "        if pos == 1:\n",
    "            node.next = self.head\n",
    "            self.head = node\n",
    "        \n",
    "        else:\n",
    "            if pos == self.countNode + 1:\n",
    "                prev.next = node\n",
    "                self.tail = node\n",
    "            \n",
    "            else:\n",
    "                prev = self.getAt(pos-1)\n",
    "                node.next = prev.next\n",
    "                prev.next = node\n",
    "        \n",
    "        self.countNode = self.countNode + 1\n",
    "        return True\n",
    "    \n",
    "    \n",
    "    # pos 위치의 노드 제거 후 값 반환    \n",
    "    def popAt(self, pos):\n",
    "        if pos < 1 or pos > self.countNode:\n",
    "            raise IndexError\n",
    "        \n",
    "        curr = self.getAt(pos)\n",
    "        \n",
    "        # 유일한 노드를 삭제할 때\n",
    "        if self.countNode == 1:\n",
    "            \n",
    "        # 삭제하려는 노드가 맨 마지막 노드일 때\n",
    "        \n",
    "        # 삭제하려는 노드가 맨 앞일 때\n",
    "        if pos == 1:\n",
    "            self.head = curr.next\n",
    "        else :\n",
    "            # 맨뒤 노드를 삭제할때\n",
    "            if pos == self.countNode:\n",
    "                prev = self.getAt(pos - 1)\n",
    "                self.tail = prev\n",
    "            else :\n",
    "                prev = self.getAt(pos-1)\n",
    "                prev.next = curr.next\n",
    "        \n",
    "        self.countNode = self.countNode - 1\n",
    "        return curr.data\n",
    "    \n",
    "    # 연결리스트 순회    \n",
    "    def traverse(self):\n",
    "        pass\n",
    "    \n",
    "    # 연결리스트 크기 반환\n",
    "    def getLength(self):\n",
    "        return self.countNode\n",
    "    \n",
    "    # 연결리스트 두개 합치기\n",
    "    def concat(self, L):\n",
    "        self.tail.next = L.head\n",
    "        if L.tail:\n",
    "            self.tail = L.tail\n",
    "        self.countNode = self.countNode + L.countNode\n",
    "        \n",
    "        "
   ]
  },
  {
   "cell_type": "code",
   "execution_count": 30,
   "metadata": {},
   "outputs": [
    {
     "data": {
      "text/plain": [
       "True"
      ]
     },
     "execution_count": 30,
     "metadata": {},
     "output_type": "execute_result"
    }
   ],
   "source": [
    "L = LinkedList()\n",
    "node = Node(23)\n",
    "node2 = Node(66)\n",
    "node3 = Node(11)\n",
    "L.insertAt(1, node)\n",
    "L.insertAt(2, node2)\n",
    "L.insertAt(3, node3)"
   ]
  },
  {
   "cell_type": "code",
   "execution_count": 20,
   "metadata": {},
   "outputs": [
    {
     "ename": "AttributeError",
     "evalue": "'NoneType' object has no attribute 'next'",
     "output_type": "error",
     "traceback": [
      "\u001b[1;31m---------------------------------------------------------------------------\u001b[0m",
      "\u001b[1;31mAttributeError\u001b[0m                            Traceback (most recent call last)",
      "\u001b[1;32m<ipython-input-20-296268205602>\u001b[0m in \u001b[0;36m<module>\u001b[1;34m\u001b[0m\n\u001b[1;32m----> 1\u001b[1;33m \u001b[0mL\u001b[0m\u001b[1;33m.\u001b[0m\u001b[0minsertAt\u001b[0m\u001b[1;33m(\u001b[0m\u001b[1;36m2\u001b[0m\u001b[1;33m,\u001b[0m \u001b[0mNode\u001b[0m\u001b[1;33m(\u001b[0m\u001b[1;36m66\u001b[0m\u001b[1;33m)\u001b[0m\u001b[1;33m)\u001b[0m\u001b[1;33m\u001b[0m\u001b[1;33m\u001b[0m\u001b[0m\n\u001b[0m\u001b[0;32m      2\u001b[0m \u001b[0mL\u001b[0m\u001b[1;33m.\u001b[0m\u001b[0minsertAt\u001b[0m\u001b[1;33m(\u001b[0m\u001b[1;36m3\u001b[0m\u001b[1;33m,\u001b[0m \u001b[0mNode\u001b[0m\u001b[1;33m(\u001b[0m\u001b[1;36m11\u001b[0m\u001b[1;33m)\u001b[0m\u001b[1;33m)\u001b[0m\u001b[1;33m\u001b[0m\u001b[1;33m\u001b[0m\u001b[0m\n",
      "\u001b[1;32m<ipython-input-18-ef9f8f4dfc72>\u001b[0m in \u001b[0;36minsertAt\u001b[1;34m(self, pos, node)\u001b[0m\n\u001b[0;32m     50\u001b[0m             \u001b[1;32mif\u001b[0m \u001b[0mpos\u001b[0m \u001b[1;33m==\u001b[0m \u001b[0mself\u001b[0m\u001b[1;33m.\u001b[0m\u001b[0mcountNode\u001b[0m \u001b[1;33m+\u001b[0m \u001b[1;36m1\u001b[0m\u001b[1;33m:\u001b[0m\u001b[1;33m\u001b[0m\u001b[1;33m\u001b[0m\u001b[0m\n\u001b[0;32m     51\u001b[0m                 \u001b[0mprev\u001b[0m \u001b[1;33m=\u001b[0m \u001b[0mself\u001b[0m\u001b[1;33m.\u001b[0m\u001b[0mtail\u001b[0m\u001b[1;33m\u001b[0m\u001b[1;33m\u001b[0m\u001b[0m\n\u001b[1;32m---> 52\u001b[1;33m                 \u001b[0mprev\u001b[0m\u001b[1;33m.\u001b[0m\u001b[0mnext\u001b[0m \u001b[1;33m=\u001b[0m \u001b[0mnode\u001b[0m\u001b[1;33m\u001b[0m\u001b[1;33m\u001b[0m\u001b[0m\n\u001b[0m\u001b[0;32m     53\u001b[0m                 \u001b[0mself\u001b[0m\u001b[1;33m.\u001b[0m\u001b[0mtail\u001b[0m \u001b[1;33m=\u001b[0m \u001b[0mnode\u001b[0m\u001b[1;33m\u001b[0m\u001b[1;33m\u001b[0m\u001b[0m\n\u001b[0;32m     54\u001b[0m \u001b[1;33m\u001b[0m\u001b[0m\n",
      "\u001b[1;31mAttributeError\u001b[0m: 'NoneType' object has no attribute 'next'"
     ]
    }
   ],
   "source": [
    "node\n",
    "L.insertAt(2, Node(66))\n",
    "L.insertAt(3, Node(11))"
   ]
  },
  {
   "cell_type": "code",
   "execution_count": 35,
   "metadata": {},
   "outputs": [
    {
     "data": {
      "text/plain": [
       "66"
      ]
     },
     "execution_count": 35,
     "metadata": {},
     "output_type": "execute_result"
    }
   ],
   "source": [
    "L"
   ]
  },
  {
   "cell_type": "code",
   "execution_count": 34,
   "metadata": {},
   "outputs": [
    {
     "data": {
      "text/plain": [
       "11"
      ]
     },
     "execution_count": 34,
     "metadata": {},
     "output_type": "execute_result"
    }
   ],
   "source": [
    "L.popAt(2)"
   ]
  },
  {
   "cell_type": "code",
   "execution_count": null,
   "metadata": {},
   "outputs": [],
   "source": []
  },
  {
   "cell_type": "code",
   "execution_count": null,
   "metadata": {},
   "outputs": [],
   "source": []
  },
  {
   "cell_type": "code",
   "execution_count": null,
   "metadata": {},
   "outputs": [],
   "source": []
  },
  {
   "cell_type": "code",
   "execution_count": null,
   "metadata": {},
   "outputs": [],
   "source": []
  },
  {
   "cell_type": "code",
   "execution_count": null,
   "metadata": {},
   "outputs": [],
   "source": []
  },
  {
   "cell_type": "code",
   "execution_count": null,
   "metadata": {},
   "outputs": [],
   "source": []
  },
  {
   "cell_type": "code",
   "execution_count": null,
   "metadata": {},
   "outputs": [],
   "source": [
    "### 링크드리스트 클래스 구현 및 클래스 메소드 \n",
    "class Node:\n",
    "\n",
    "    def __init__(self, item):\n",
    "        self.data = item\n",
    "        self.next = None\n",
    "\n",
    "\n",
    "class LinkedList:\n",
    "\n",
    "    def __init__(self):\n",
    "        self.nodeCount = 0\n",
    "        self.head = None\n",
    "        self.tail = None\n",
    "\n",
    "\n",
    "    def __repr__(self):\n",
    "        if self.nodeCount == 0:\n",
    "            return 'LinkedList: empty'\n",
    "\n",
    "        s = ''\n",
    "        curr = self.head\n",
    "        while curr is not None:\n",
    "            s += repr(curr.data)\n",
    "            if curr.next is not None:\n",
    "                s += ' -> '\n",
    "            curr = curr.next\n",
    "        return s\n",
    "\n",
    "\n",
    "    def getAt(self, pos):\n",
    "        if pos < 1 or pos > self.nodeCount:\n",
    "            return None\n",
    "\n",
    "        i = 1\n",
    "        curr = self.head\n",
    "        while i < pos:\n",
    "            curr = curr.next\n",
    "            i += 1\n",
    "\n",
    "        return curr\n",
    "\n",
    "\n",
    "    def insertAt(self, pos, newNode):\n",
    "        if pos < 1 or pos > self.nodeCount + 1:\n",
    "            return False\n",
    "\n",
    "        if pos == 1:\n",
    "            newNode.next = self.head\n",
    "            self.head = newNode\n",
    "\n",
    "        else:\n",
    "            if pos == self.nodeCount + 1:\n",
    "                prev = self.tail\n",
    "            else:\n",
    "                prev = self.getAt(pos - 1)\n",
    "            newNode.next = prev.next\n",
    "            prev.next = newNode\n",
    "\n",
    "        if pos == self.nodeCount + 1:\n",
    "            self.tail = newNode\n",
    "\n",
    "        self.nodeCount += 1\n",
    "        return True\n",
    "\n",
    "\n",
    "    def getLength(self):\n",
    "        return self.nodeCount\n",
    "\n",
    "\n",
    "    def traverse(self):\n",
    "        result = []\n",
    "        curr = self.head\n",
    "        while curr is not None:\n",
    "            result.append(curr.data)\n",
    "            curr = curr.next\n",
    "        return result\n",
    "\n",
    "\n",
    "    def concat(self, L):\n",
    "        self.tail.next = L.head\n",
    "        if L.tail:\n",
    "            self.tail = L.tail\n",
    "        self.nodeCount += L.nodeCount\n"
   ]
  }
 ],
 "metadata": {
  "kernelspec": {
   "display_name": "Python 3",
   "language": "python",
   "name": "python3"
  },
  "language_info": {
   "codemirror_mode": {
    "name": "ipython",
    "version": 3
   },
   "file_extension": ".py",
   "mimetype": "text/x-python",
   "name": "python",
   "nbconvert_exporter": "python",
   "pygments_lexer": "ipython3",
   "version": "3.8.5"
  }
 },
 "nbformat": 4,
 "nbformat_minor": 4
}
