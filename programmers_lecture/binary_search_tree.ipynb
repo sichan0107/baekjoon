{
 "cells": [
  {
   "cell_type": "markdown",
   "metadata": {},
   "source": [
    "#### 이진 탐색 트리\n",
    "1. 개념\n",
    "    - 이진 탐색이랑 비슷한데 선형 구조랑 트리 구조임이 많이 다른듯.\n",
    "    - 이진 탐색은 무조건 정렬이 된 상태에서만 사용가능. \n",
    "    - 근데 얘는 다음 두 조건이 만족해야 함.\n",
    "    - 현재 노드의 왼쪽 자식노드는 모두 자신보다 작아야함.\n",
    "    - 오른쪽 자식노드는 커야함.\n",
    "    \n",
    "2. 활용?\n",
    "    - 데이터의 삽입과 삭제에 용이한 것 같다.\n",
    "    - 데이터 레코드를 빠르게 찾을 수 있을것 같다. (key, value)\n",
    "3. 시간복잡도\n",
    "    - lookup : 평균적으로 O(logn)"
   ]
  },
  {
   "cell_type": "code",
   "execution_count": 14,
   "metadata": {},
   "outputs": [],
   "source": [
    "class Node:\n",
    "\n",
    "    def __init__(self, key, data):\n",
    "        self.key = key\n",
    "        self.data = data\n",
    "        self.left = None\n",
    "        self.right = None\n",
    "        \n",
    "    def insert(self, key, data):\n",
    "        # 빈 노드라면 바로 추가\n",
    "        if key < self.key:\n",
    "            if self.left == None:\n",
    "                self.left = Node(key, data)\n",
    "            else: \n",
    "                self.left.insert(key, data)\n",
    "            \n",
    "        elif key > self.key:\n",
    "            if self.right == None:\n",
    "                self.right = Node(key, data)\n",
    "            else :\n",
    "                self.right.insert(key, data)\n",
    "        # 중복이 된 경우\n",
    "        else:\n",
    "            raise KeyError\n",
    "\n",
    "\n",
    "    def inorder(self):\n",
    "        traversal = []\n",
    "        if self.left:\n",
    "            traversal += self.left.inorder()\n",
    "        traversal.append(self)\n",
    "        if self.right:\n",
    "            traversal += self.right.inorder()\n",
    "        return traversal\n",
    "    \n",
    "    def min(self):\n",
    "        if self.left:\n",
    "            self.left.min()\n",
    "        else :\n",
    "            return self.key\n",
    "    \n",
    "    def lookup(self, key):\n",
    "        if key == self.key:\n",
    "            return self.key, None\n",
    "        elif self.right and key > self.key:\n",
    "            return self.lookup(self.right)\n",
    "        else:\n",
    "            return \n",
    "            \n",
    "\n",
    "\n",
    "class BinSearchTree:\n",
    "\n",
    "    def __init__(self):\n",
    "        self.root = None\n",
    "    \n",
    "    def __repr__(self):\n",
    "        if self.root == None:\n",
    "            return 'Tree : empty'\n",
    "\n",
    "        s = ''\n",
    "        l = self.inorder()\n",
    "        for node in i:\n",
    "            s += repr(node.key)\n",
    "    \n",
    "        return s\n",
    "\n",
    "\n",
    "    def insert(self, key, data):\n",
    "        if self.root:\n",
    "            self.root.insert(key, data)\n",
    "        else:\n",
    "            self.root = Node(key, data)\n",
    "\n",
    "\n",
    "    def inorder(self):\n",
    "        if self.root:\n",
    "            return self.root.inorder()\n",
    "        else:\n",
    "            return []\n",
    "    \n",
    "    def min(self):\n",
    "        if self.root:\n",
    "            return self.root.min()\n",
    "        else:\n",
    "            return None\n",
    "        \n",
    "    # 자식노드와 부모노드 모두 가져오기\n",
    "    def lookup(self, key):\n",
    "        if self.root:\n",
    "            return self.root.lookup()\n",
    "        else :\n",
    "            return None\n",
    "\n",
    "\n",
    "def solution(x):\n",
    "    return 0"
   ]
  },
  {
   "cell_type": "code",
   "execution_count": 15,
   "metadata": {},
   "outputs": [],
   "source": [
    "binTree = BinSearchTree()\n",
    "\n",
    "binTree.insert(1, \"라면\")\n",
    "binTree.insert(2, \"삼겹살\")\n",
    "binTree.insert(3, \"떡볶이\")\n",
    "binTree.insert(4, \"아메리카노\")\n",
    "binTree.insert(5, \"살구자두\")"
   ]
  },
  {
   "cell_type": "code",
   "execution_count": 18,
   "metadata": {},
   "outputs": [
    {
     "data": {
      "text/plain": [
       "<__main__.Node at 0x191f9b00220>"
      ]
     },
     "execution_count": 18,
     "metadata": {},
     "output_type": "execute_result"
    }
   ],
   "source": [
    "l = binTree.inorder()\n",
    "l[1]"
   ]
  }
 ],
 "metadata": {
  "kernelspec": {
   "display_name": "Python 3",
   "language": "python",
   "name": "python3"
  },
  "language_info": {
   "codemirror_mode": {
    "name": "ipython",
    "version": 3
   },
   "file_extension": ".py",
   "mimetype": "text/x-python",
   "name": "python",
   "nbconvert_exporter": "python",
   "pygments_lexer": "ipython3",
   "version": "3.8.5"
  }
 },
 "nbformat": 4,
 "nbformat_minor": 4
}
