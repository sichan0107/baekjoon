{
 "cells": [
  {
   "cell_type": "markdown",
   "metadata": {},
   "source": [
    "#### 이진 트리\n",
    "\n",
    "1. 깊이 우선 순회 \n",
    "    - 중위 순회 (in-order traverasl): 왼쪽 서브트리를 순회한 뒤 노드 x 를 방문, 그리고 나서 오른쪽 서브트리를 순회\n",
    "    - 전위 순회 (pre-order traversal): 노드 x 를 방문한 후에 왼쪽 서브트리를 순회, 마지막으로 오른쪽 서브트리를 순회\n",
    "    - 후위 순회 (post-order traversal): 왼쪽 서브트리를 순회, 오른쪽 서브트리를 순회, 그리고 나서 마지막으로 노드 x 를 방문"
   ]
  },
  {
   "cell_type": "code",
   "execution_count": 1,
   "metadata": {},
   "outputs": [],
   "source": [
    "class Node:\n",
    "\n",
    "    def __init__(self, item):\n",
    "        self.data = item\n",
    "        self.left = None\n",
    "        self.right = None\n",
    "\n",
    "\n",
    "    def size(self):\n",
    "        l = self.left.size() if self.left else 0\n",
    "        r = self.right.size() if self.right else 0\n",
    "        return l + r + 1\n",
    "\n",
    "\n",
    "    def depth(self):\n",
    "        l = self.left.depth() if self.left else 0\n",
    "        r = self.right.depth() if self.right else 0\n",
    "        if l >= r:\n",
    "            return l + 1\n",
    "        else:\n",
    "            return r + 1\n",
    "        \n",
    "    def inorder(self):\n",
    "        traversal = []\n",
    "        if self.left:\n",
    "            traversal += self.left.inorder()\n",
    "        traversal.append(self.data)\n",
    "        if self.right:\n",
    "            traversal += self.right.inorder()\n",
    "        return traversal\n",
    "\n",
    "\n",
    "    def preorder(self):\n",
    "        traversal = []\n",
    "        traversal.append(self.data)\n",
    "        if self.left:\n",
    "            traversal += self.left.preorder()\n",
    "        if self.right:\n",
    "            traversal += self.right.preorder()\n",
    "        return traversal\n",
    "    \n",
    "    def postorder(self):\n",
    "        traversal = []\n",
    "        if self.left:\n",
    "            traversal += self.left.postorder()\n",
    "        if self.right:\n",
    "            traversal += self.right.postorder()\n",
    "        traversal.append(self.data)\n",
    "        return traversal\n",
    "    \n",
    "class BinaryTree:\n",
    "\n",
    "    def __init__(self, r):\n",
    "        self.root = r\n",
    "\n",
    "    def size(self):\n",
    "        if self.root:\n",
    "            return self.root.size()\n",
    "        else:\n",
    "            return 0\n",
    "\n",
    "\n",
    "    def depth(self):\n",
    "        if self.root:\n",
    "            return self.root.depth()\n",
    "        else:\n",
    "            return 0\n",
    "\n",
    "    def inorder(self):\n",
    "        if self.root:\n",
    "            return self.root.inorder()\n",
    "        else:\n",
    "            return []\n",
    "\n",
    "\n",
    "    def preorder(self):\n",
    "        if self.root:\n",
    "            return self.root.preorder()\n",
    "        else:\n",
    "            return []\n",
    "        \n",
    "    def postorder(self):\n",
    "        if self.root:\n",
    "            return self.root.postorder()\n",
    "        else:\n",
    "            return []\n",
    "\n",
    "def solution(x):\n",
    "    return 0"
   ]
  },
  {
   "cell_type": "markdown",
   "metadata": {},
   "source": [
    "#### list 요소 삽입과 이어붙이기 방식 정리\n",
    "1. 리스트 += 리스트 (리스트 생성으로 동작)\n",
    "    - 두 리스트가 이어붙여진다. extend보다 빠르다\n",
    "2. append (속성 적재 + 함수 호출로 동작)\n",
    "    - 리스트안에 하나의 요소를 맨뒤에 붙인다. \n",
    "    - list.append(another_list) : [1,2,3,[6]]\n",
    "3. extend (리스트 생성으로 동작)\n",
    "    - += 랑 똑같은 효과인데 연산이 좀더 느리다.\n",
    "    "
   ]
  },
  {
   "cell_type": "code",
   "execution_count": 3,
   "metadata": {},
   "outputs": [
    {
     "name": "stdout",
     "output_type": "stream",
     "text": [
      "[1, 2, 3, 4, 5, 6, 7, 1, 4, 6, 8, 9]\n"
     ]
    }
   ],
   "source": [
    "l = [1,2,3,4,5,6,7]\n",
    "r = [1,4,6,8,9]\n",
    "l += r\n",
    "print(l)"
   ]
  },
  {
   "cell_type": "code",
   "execution_count": 4,
   "metadata": {},
   "outputs": [
    {
     "data": {
      "text/plain": [
       "[1, 3, 4, 5, [6, 8, 9]]"
      ]
     },
     "execution_count": 4,
     "metadata": {},
     "output_type": "execute_result"
    }
   ],
   "source": [
    "t = [1,3,4,5]\n",
    "q = [6,8,9]\n",
    "t.append(q)\n",
    "t"
   ]
  },
  {
   "cell_type": "code",
   "execution_count": 5,
   "metadata": {},
   "outputs": [
    {
     "data": {
      "text/plain": [
       "[1, 3, 4, 5, 6, 8, 9]"
      ]
     },
     "execution_count": 5,
     "metadata": {},
     "output_type": "execute_result"
    }
   ],
   "source": [
    "t = [1,3,4,5]\n",
    "q = [6,8,9]\n",
    "t.extend(q)\n",
    "t"
   ]
  }
 ],
 "metadata": {
  "kernelspec": {
   "display_name": "Python 3",
   "language": "python",
   "name": "python3"
  },
  "language_info": {
   "codemirror_mode": {
    "name": "ipython",
    "version": 3
   },
   "file_extension": ".py",
   "mimetype": "text/x-python",
   "name": "python",
   "nbconvert_exporter": "python",
   "pygments_lexer": "ipython3",
   "version": "3.8.5"
  }
 },
 "nbformat": 4,
 "nbformat_minor": 4
}
