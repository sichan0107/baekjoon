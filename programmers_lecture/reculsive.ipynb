{
 "cells": [
  {
   "cell_type": "code",
   "execution_count": 21,
   "metadata": {},
   "outputs": [],
   "source": [
    "### 피보나치 순열 (재귀버전)\n",
    "### 해당 값의 인덱스를 반환\n",
    "def solution(x):\n",
    "    if x == 0:\n",
    "        return 0\n",
    "    elif x == 1:\n",
    "        return 1\n",
    "    else:\n",
    "        return solution(x-1) + solution(x-2)\n",
    "    \n",
    "    "
   ]
  },
  {
   "cell_type": "code",
   "execution_count": 22,
   "metadata": {},
   "outputs": [
    {
     "data": {
      "text/plain": [
       "5"
      ]
     },
     "execution_count": 22,
     "metadata": {},
     "output_type": "execute_result"
    }
   ],
   "source": [
    "solution(5)"
   ]
  },
  {
   "cell_type": "code",
   "execution_count": 15,
   "metadata": {},
   "outputs": [],
   "source": [
    "### 피보나치 수열 (반복문 버전)\n",
    "\n",
    "def pivo2(x):\n",
    "    a = 0\n",
    "    b = 1\n",
    "    if x == 0:\n",
    "        return a\n",
    "    elif x == 1:\n",
    "        return b\n",
    "    else:\n",
    "        Fn = a + b \n",
    "        cnt = 2\n",
    "        while cnt < x:\n",
    "            a = b\n",
    "            b = Fn\n",
    "            Fn = b + a\n",
    "            cnt = cnt + 1\n",
    "    return Fn"
   ]
  },
  {
   "cell_type": "code",
   "execution_count": 16,
   "metadata": {},
   "outputs": [
    {
     "data": {
      "text/plain": [
       "5"
      ]
     },
     "execution_count": 16,
     "metadata": {},
     "output_type": "execute_result"
    }
   ],
   "source": [
    "pivo2(5)"
   ]
  },
  {
   "cell_type": "code",
   "execution_count": 25,
   "metadata": {},
   "outputs": [],
   "source": [
    "### 재귀적 이진탐색\n",
    "\n",
    "def solution(L, x, l, u):\n",
    "    if l > u :\n",
    "        return -1\n",
    "    mid = (l + u) // 2\n",
    "    \n",
    "    if x == L[mid]:\n",
    "        return mid\n",
    "    \n",
    "    elif x < L[mid]:\n",
    "        return solution(L, x, l, mid - 1)\n",
    "\n",
    "    else:\n",
    "        return solution(L, x, mid + 1, u)\n"
   ]
  },
  {
   "cell_type": "code",
   "execution_count": 27,
   "metadata": {},
   "outputs": [
    {
     "data": {
      "text/plain": [
       "-1"
      ]
     },
     "execution_count": 27,
     "metadata": {},
     "output_type": "execute_result"
    }
   ],
   "source": [
    "L = [2, 5, 7, 9, 11]\n",
    "solution(L, 4, 0, 4)"
   ]
  }
 ],
 "metadata": {
  "kernelspec": {
   "display_name": "Python 3",
   "language": "python",
   "name": "python3"
  },
  "language_info": {
   "codemirror_mode": {
    "name": "ipython",
    "version": 3
   },
   "file_extension": ".py",
   "mimetype": "text/x-python",
   "name": "python",
   "nbconvert_exporter": "python",
   "pygments_lexer": "ipython3",
   "version": "3.8.5"
  }
 },
 "nbformat": 4,
 "nbformat_minor": 4
}
