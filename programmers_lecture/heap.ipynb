{
 "cells": [
  {
   "cell_type": "code",
   "execution_count": 1,
   "metadata": {},
   "outputs": [],
   "source": [
    "class MaxHeap:\n",
    "    def __init__(self):\n",
    "        self.data = [None]\n",
    "        \n",
    "    def insert(self, item):\n",
    "        self.data.append(item)\n",
    "        last = self.data.index(item)\n",
    "        parent = last // 2\n",
    "        while self.data[last] > self.data[parent]:\n",
    "            self.data[last], self.data[parent] = self.data[parent], self.data[last]\n",
    "            last = parent\n",
    "            parent = parent // 2\n",
    "            \n",
    "    def insert(self, item):\n",
    "        self.data.append(item)\n",
    "        last = self.data.index(item)\n",
    "        parent = last // 2\n",
    "        while last > 1:\n",
    "            if self.data[last] < self.data[parent]:\n",
    "                break\n",
    "            else:\n",
    "                self.data[last], self.data[parent] = self.data[parent], self.data[last]\n",
    "                last = parent\n",
    "                parent = parent // 2\n",
    "                \n",
    "    def remove(self):\n",
    "        if len(self.data) > 1:\n",
    "            self.data[1], self.data[-1] = self.data[-1], self.data[1]\n",
    "            data = self.data.pop(-1)\n",
    "            self.maxHeapfy(1)\n",
    "            \n",
    "            return data\n",
    "        else:\n",
    "            return False\n",
    "        \n",
    "    def maxHeapfy(self, i):\n",
    "        left = i * 2\n",
    "        right = i * 2 + 1\n",
    "        self.data.\n",
    "        smallest = max(self.data[i], self.data[left], self.data[right])\n",
    "        \n",
    "        if smallest != i and self.data[left] and self.data[right]:\n",
    "            i, smallest = smallest, i\n",
    "        \n",
    "        self.maxHeapfy(i)\n",
    "            "
   ]
  }
 ],
 "metadata": {
  "kernelspec": {
   "display_name": "Python 3",
   "language": "python",
   "name": "python3"
  },
  "language_info": {
   "codemirror_mode": {
    "name": "ipython",
    "version": 3
   },
   "file_extension": ".py",
   "mimetype": "text/x-python",
   "name": "python",
   "nbconvert_exporter": "python",
   "pygments_lexer": "ipython3",
   "version": "3.8.5"
  }
 },
 "nbformat": 4,
 "nbformat_minor": 4
}
