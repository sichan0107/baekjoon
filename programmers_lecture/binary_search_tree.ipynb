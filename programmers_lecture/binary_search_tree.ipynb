{
 "cells": [
  {
   "cell_type": "markdown",
   "metadata": {},
   "source": [
    "#### 이진 탐색 트리\n",
    "1. 개념\n",
    "    - 이진 탐색이랑 비슷한데 선형 구조랑 트리 구조임이 많이 다른듯.\n",
    "    - 이진 탐색은 무조건 정렬이 된 상태에서만\n",
    "    - 현재 노드의 왼쪽 자식노드는 모두 자신보다 작아야함.\n",
    "    - 오른쪽 자식노드는 커야함.\n",
    "    \n",
    "2. 활용?\n",
    "    - 데이터의 삽입과 삭제에 용이한 것 같다.\n",
    "    - 데이터 레코드를 빠르게 찾을 수 있을것 같다. (key, value)\n",
    "3. 시간복잡도\n",
    "    - lookup : 평균적으로 O(logn)\n",
    "    - "
   ]
  },
  {
   "cell_type": "code",
   "execution_count": null,
   "metadata": {},
   "outputs": [],
   "source": [
    "class Node:\n",
    "\n",
    "    def __init__(self, key, data):\n",
    "        self.key = key\n",
    "        self.data = data\n",
    "        self.left = None\n",
    "        self.right = None\n",
    "\n",
    "\n",
    "    def insert(self, key, data):\n",
    "        pass\n",
    "\n",
    "\n",
    "    def inorder(self):\n",
    "        traversal = []\n",
    "        if self.left:\n",
    "            traversal += self.left.inorder()\n",
    "        traversal.append(self)\n",
    "        if self.right:\n",
    "            traversal += self.right.inorder()\n",
    "        return traversal\n",
    "\n",
    "\n",
    "class BinSearchTree:\n",
    "\n",
    "    def __init__(self):\n",
    "        self.root = None\n",
    "\n",
    "\n",
    "    def insert(self, key, data):\n",
    "        if self.root:\n",
    "            self.root.insert(key, data)\n",
    "        else:\n",
    "            self.root = Node(key, data)\n",
    "\n",
    "\n",
    "    def inorder(self):\n",
    "        if self.root:\n",
    "            return self.root.inorder()\n",
    "        else:\n",
    "            return []\n",
    "\n",
    "\n",
    "def solution(x):\n",
    "    return 0"
   ]
  }
 ],
 "metadata": {
  "kernelspec": {
   "display_name": "Python 3",
   "language": "python",
   "name": "python3"
  },
  "language_info": {
   "codemirror_mode": {
    "name": "ipython",
    "version": 3
   },
   "file_extension": ".py",
   "mimetype": "text/x-python",
   "name": "python",
   "nbconvert_exporter": "python",
   "pygments_lexer": "ipython3",
   "version": "3.8.5"
  }
 },
 "nbformat": 4,
 "nbformat_minor": 4
}
