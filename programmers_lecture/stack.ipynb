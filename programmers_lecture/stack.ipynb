{
 "cells": [
  {
   "cell_type": "code",
   "execution_count": 1,
   "metadata": {},
   "outputs": [],
   "source": [
    "class ArrayStack:\n",
    "\n",
    "    def __init__(self):\n",
    "        self.data = []\n",
    "\n",
    "    def size(self):\n",
    "        return len(self.data)\n",
    "\n",
    "    def isEmpty(self):\n",
    "        return self.size() == 0\n",
    "\n",
    "    def push(self, item):\n",
    "        self.data.append(item)\n",
    "\n",
    "    def pop(self):\n",
    "        return self.data.pop()\n",
    "\n",
    "    def peek(self):\n",
    "        return self.data[-1]\n",
    "\n",
    "\n",
    "# expr 표현식에서 올바른 괄호 닫음이 되어있는지 확인하는 솔루션\n",
    "# 먼자 match에 닫음 괄호를 딕셔너리로 선언하고\n",
    "# 스택에 expr을 반복문, 조건문을 통해 열림 괄호를 집어넣는다.\n",
    "# 스택의 성질을 이용해서 올바른 검증이 가능하다.\n",
    "def solution(expr):\n",
    "    match = {\n",
    "        ')': '(',\n",
    "        '}': '{',\n",
    "        ']': '['\n",
    "    }\n",
    "    S = ArrayStack()\n",
    "    for c in expr:\n",
    "        if c in '({[':\n",
    "            S.push(c)\n",
    "\n",
    "        elif c in match:\n",
    "            if S.isEmpty():\n",
    "                return False\n",
    "            else:\n",
    "                t = S.pop()\n",
    "                if t != match[c]:\n",
    "                    return False\n",
    "    \n",
    "    return S.isEmpty()\n"
   ]
  },
  {
   "cell_type": "code",
   "execution_count": 8,
   "metadata": {},
   "outputs": [
    {
     "data": {
      "text/plain": [
       "True"
      ]
     },
     "execution_count": 8,
     "metadata": {},
     "output_type": "execute_result"
    }
   ],
   "source": [
    "ex = \"(a+b)\"\n",
    "ex2 = \"{a(bb}\"\n",
    "ex3 = \"{()()}\"\n",
    "solution(ex3)"
   ]
  },
  {
   "cell_type": "code",
   "execution_count": 4,
   "metadata": {},
   "outputs": [],
   "source": [
    "### 스택을 이용한 후위 수식 표기법\n",
    "class ArrayStack:\n",
    "\n",
    "    def __init__(self):\n",
    "        self.data = []\n",
    "\n",
    "    def size(self):\n",
    "        return len(self.data)\n",
    "\n",
    "    def isEmpty(self):\n",
    "        return self.size() == 0\n",
    "\n",
    "    def push(self, item):\n",
    "        self.data.append(item)\n",
    "\n",
    "    def pop(self):\n",
    "        return self.data.pop()\n",
    "\n",
    "    def peek(self):\n",
    "        return self.data[-1]\n",
    "    \n",
    "prec = {\n",
    "    '*': 3, '/': 3,\n",
    "    '+': 2, '-': 2,\n",
    "    '(': 1\n",
    "}\n",
    "\n",
    "def solution(S):\n",
    "    opStack = ArrayStack()\n",
    "    answer = ''\n",
    "    \n",
    "    # 주어진 S를 차례대로 읽는다\n",
    "    for c in S:\n",
    "        # 연산자를 만나면 스택에 집어넣는다.\n",
    "        if c in prec:\n",
    "            opStack.push(c)\n",
    "            \n",
    "        # ) 를 만나면 (이 나올때까지 스택에서 pop\n",
    "        elif c == ')':\n",
    "            while opStack.peek() != '(':\n",
    "                tmp = opStack.pop()\n",
    "                answer += tmp\n",
    "                \n",
    "        # 연산자가 아닌 일반 문자라면 바로 answer에 붙인다.\n",
    "        else:\n",
    "            answer += c\n",
    "            \n",
    "        # 스택에 남아있는 연산자를 모두 pop, answer에 이어 붙인다.\n",
    "        while opStack.isEmpty() is False:\n",
    "            answer += opStack.pop()\n",
    "    \n",
    "    return answer"
   ]
  },
  {
   "cell_type": "code",
   "execution_count": 5,
   "metadata": {},
   "outputs": [
    {
     "data": {
      "text/plain": [
       "'A+B*C'"
      ]
     },
     "execution_count": 5,
     "metadata": {},
     "output_type": "execute_result"
    }
   ],
   "source": [
    "S = \"A+B*C\"\n",
    "S2 = \"(A+B)-C\"\n",
    "S3 = \"(A+B)*C\"\n",
    "solution(S)"
   ]
  },
  {
   "cell_type": "code",
   "execution_count": null,
   "metadata": {},
   "outputs": [],
   "source": []
  },
  {
   "cell_type": "code",
   "execution_count": null,
   "metadata": {},
   "outputs": [],
   "source": []
  },
  {
   "cell_type": "code",
   "execution_count": null,
   "metadata": {},
   "outputs": [],
   "source": []
  }
 ],
 "metadata": {
  "kernelspec": {
   "display_name": "Python 3",
   "language": "python",
   "name": "python3"
  },
  "language_info": {
   "codemirror_mode": {
    "name": "ipython",
    "version": 3
   },
   "file_extension": ".py",
   "mimetype": "text/x-python",
   "name": "python",
   "nbconvert_exporter": "python",
   "pygments_lexer": "ipython3",
   "version": "3.8.5"
  }
 },
 "nbformat": 4,
 "nbformat_minor": 4
}
