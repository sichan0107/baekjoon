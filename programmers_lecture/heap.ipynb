{
 "cells": [
  {
   "cell_type": "code",
   "execution_count": 1,
   "metadata": {},
   "outputs": [],
   "source": [
    "class MaxHeap:\n",
    "    def __init__(self):\n",
    "        self.data = [None]\n",
    "        \n",
    "    def insert(self, item):\n",
    "        self.data.append(item)\n",
    "        last = self.data.index(item)\n",
    "        parent = last // 2\n",
    "        while self.data[last] > self.data[parent]:\n",
    "            self.data[last], self.data[parent] = self.data[parent], self.data[last]\n",
    "            last = parent\n",
    "            parent = parent // 2\n",
    "            \n",
    "    def insert(self, item):\n",
    "        self.data.append(item)\n",
    "        last = self.data.index(item)\n",
    "        parent = last // 2\n",
    "        while last > 1:\n",
    "            if self.data[last] < self.data[parent]:\n",
    "                break\n",
    "            else:\n",
    "                self.data[last], self.data[parent] = self.data[parent], self.data[last]\n",
    "                last = parent\n",
    "                parent = parent // 2\n",
    "            \n",
    "            "
   ]
  }
 ],
 "metadata": {
  "kernelspec": {
   "display_name": "Python 3",
   "language": "python",
   "name": "python3"
  },
  "language_info": {
   "codemirror_mode": {
    "name": "ipython",
    "version": 3
   },
   "file_extension": ".py",
   "mimetype": "text/x-python",
   "name": "python",
   "nbconvert_exporter": "python",
   "pygments_lexer": "ipython3",
   "version": "3.8.5"
  }
 },
 "nbformat": 4,
 "nbformat_minor": 4
}
