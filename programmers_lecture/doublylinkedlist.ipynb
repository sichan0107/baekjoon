{
 "cells": [
  {
   "cell_type": "code",
   "execution_count": null,
   "metadata": {},
   "outputs": [],
   "source": []
  },
  {
   "cell_type": "code",
   "execution_count": null,
   "metadata": {},
   "outputs": [],
   "source": []
  },
  {
   "cell_type": "code",
   "execution_count": null,
   "metadata": {},
   "outputs": [],
   "source": []
  },
  {
   "cell_type": "code",
   "execution_count": null,
   "metadata": {},
   "outputs": [],
   "source": []
  },
  {
   "cell_type": "code",
   "execution_count": null,
   "metadata": {},
   "outputs": [],
   "source": []
  },
  {
   "cell_type": "code",
   "execution_count": null,
   "metadata": {},
   "outputs": [],
   "source": []
  },
  {
   "cell_type": "code",
   "execution_count": null,
   "metadata": {},
   "outputs": [],
   "source": []
  },
  {
   "cell_type": "code",
   "execution_count": null,
   "metadata": {},
   "outputs": [],
   "source": []
  },
  {
   "cell_type": "code",
   "execution_count": null,
   "metadata": {},
   "outputs": [],
   "source": []
  },
  {
   "cell_type": "code",
   "execution_count": null,
   "metadata": {},
   "outputs": [],
   "source": []
  },
  {
   "cell_type": "code",
   "execution_count": null,
   "metadata": {},
   "outputs": [],
   "source": []
  },
  {
   "cell_type": "code",
   "execution_count": null,
   "metadata": {},
   "outputs": [],
   "source": []
  },
  {
   "cell_type": "code",
   "execution_count": null,
   "metadata": {},
   "outputs": [],
   "source": [
    "class Node:\n",
    "\n",
    "    def __init__(self, item):\n",
    "        self.data = item\n",
    "        self.prev = None\n",
    "        self.next = None\n",
    "\n",
    "\n",
    "class DoublyLinkedList:\n",
    "\n",
    "    def __init__(self):\n",
    "        self.nodeCount = 0\n",
    "        self.head = Node(None)\n",
    "        self.tail = Node(None)\n",
    "        self.head.prev = None\n",
    "        self.head.next = self.tail\n",
    "        self.tail.prev = self.head\n",
    "        self.tail.next = None\n",
    "\n",
    "\n",
    "    def __repr__(self):\n",
    "        if self.nodeCount == 0:\n",
    "            return 'LinkedList: empty'\n",
    "\n",
    "        s = ''\n",
    "        curr = self.head\n",
    "        while curr.next.next:\n",
    "            curr = curr.next\n",
    "            s += repr(curr.data)\n",
    "            if curr.next.next is not None:\n",
    "                s += ' -> '\n",
    "        return s\n",
    "\n",
    "\n",
    "    def getLength(self):\n",
    "        return self.nodeCount\n",
    "\n",
    "\n",
    "    def traverse(self):\n",
    "        result = []\n",
    "        curr = self.head\n",
    "        while curr.next.next:\n",
    "            curr = curr.next\n",
    "            result.append(curr.data)\n",
    "        return result\n",
    "\n",
    "\n",
    "    def getAt(self, pos):\n",
    "        if pos < 0 or pos > self.nodeCount:\n",
    "            return None\n",
    "\n",
    "        if pos > self.nodeCount // 2:\n",
    "            i = 0\n",
    "            curr = self.tail\n",
    "            while i < self.nodeCount - pos + 1:\n",
    "                curr = curr.prev\n",
    "                i += 1\n",
    "        else:\n",
    "            i = 0\n",
    "            curr = self.head\n",
    "            while i < pos:\n",
    "                curr = curr.next\n",
    "                i += 1\n",
    "\n",
    "        return curr\n",
    "\n",
    "\n",
    "    def insertAfter(self, prev, newNode):\n",
    "        next = prev.next\n",
    "        newNode.prev = prev\n",
    "        newNode.next = next\n",
    "        prev.next = newNode\n",
    "        next.prev = newNode\n",
    "        self.nodeCount += 1\n",
    "        return True\n",
    "\n",
    "\n",
    "    def insertAt(self, pos, newNode):\n",
    "        if pos < 1 or pos > self.nodeCount + 1:\n",
    "            return False\n",
    "\n",
    "        prev = self.getAt(pos - 1)\n",
    "        return self.insertAfter(prev, newNode)\n"
   ]
  }
 ],
 "metadata": {
  "kernelspec": {
   "display_name": "Python 3",
   "language": "python",
   "name": "python3"
  },
  "language_info": {
   "codemirror_mode": {
    "name": "ipython",
    "version": 3
   },
   "file_extension": ".py",
   "mimetype": "text/x-python",
   "name": "python",
   "nbconvert_exporter": "python",
   "pygments_lexer": "ipython3",
   "version": "3.8.5"
  }
 },
 "nbformat": 4,
 "nbformat_minor": 4
}
